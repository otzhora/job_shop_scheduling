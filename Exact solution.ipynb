{
 "cells": [
  {
   "cell_type": "markdown",
   "metadata": {},
   "source": [
    "# Exact Solution for Job Shop Problem"
   ]
  },
  {
   "cell_type": "markdown",
   "metadata": {},
   "source": [
    "Данная модель находит решение JSP с помощью вспомогательной утилиты cp_model из пакета Google Operation Research, которая позволяет организовать перебор из области допустимых значений учитывая ограничивающие условия. Также с ее помощью можно найти такие допустимые значения при которых наперед заданая функция достигает минимального (максимального) значения. Именно этими фунциями библиотеки мы и будем пользоваться."
   ]
  },
  {
   "cell_type": "code",
   "execution_count": 39,
   "metadata": {},
   "outputs": [],
   "source": [
    "import collections\n",
    "from ortools.sat.python import cp_model"
   ]
  },
  {
   "cell_type": "markdown",
   "metadata": {},
   "source": [
    "### Условия задачи"
   ]
  },
  {
   "cell_type": "code",
   "execution_count": 40,
   "metadata": {},
   "outputs": [],
   "source": [
    "jobs_data = [  # Подзадача = (номер_машины, время_выполнения).\n",
    "        [(0, 2), (1, 3), (3, 4), (2, 3)],  # Задача 0\n",
    "        [(1, 5), (2, 2), (0, 3), (1, 3)],  # Задача 1\n",
    "        [(1, 4), (0, 2), (2, 1), (3, 1)],  # Задача 2\n",
    "        [(3, 1), (2, 2), (0, 1), (1, 1)],  # Задача 3\n",
    "    ]\n",
    "\n",
    "machines_count = 1 + max(task[0] for job in jobs_data for task in job)\n",
    "all_machines = range(machines_count)\n",
    "\n",
    "# Оценка сверху для области значения всех переменных (сумма всего времени выполнения)\n",
    "horizon = sum(task[1] for job in jobs_data for task in job)"
   ]
  },
  {
   "cell_type": "markdown",
   "metadata": {},
   "source": [
    "Обьявляем переменные start и end для каждой подзадачи, и переменную интервала, которая работает, как связь между start и end вида:\n",
    "\n",
    "**start + duration = end**"
   ]
  },
  {
   "cell_type": "code",
   "execution_count": 41,
   "metadata": {},
   "outputs": [],
   "source": [
    "model = cp_model.CpModel()\n",
    "all_tasks = {}\n",
    "machine_to_intervals = collections.defaultdict(list)\n",
    "\n",
    "task_type = collections.namedtuple('task_type', 'start end interval')\n",
    "assigned_task_type = collections.namedtuple('assigned_task_type', 'start job index duration')\n",
    "\n",
    "for job_id, job in enumerate(jobs_data):\n",
    "    for task_id, task in enumerate(job):\n",
    "        machine = task[0]\n",
    "        duration = task[1]\n",
    "        suffix = '_%i_%i' % (job_id, task_id)\n",
    "        start_var = model.NewIntVar(0, horizon, 'start' + suffix)\n",
    "        end_var = model.NewIntVar(0, horizon, 'end' + suffix)\n",
    "        interval_var = model.NewIntervalVar(start_var, duration, end_var, 'interval' + suffix)\n",
    "        # Создаем лист, ключем которого будет кортеж (джоб_айди, таск,_айди),а значениям будет именованный кортеж\n",
    "        # с обьектами переменных (начало, конец, интервал)\n",
    "        all_tasks[job_id, task_id] = task_type(\n",
    "            start=start_var, end=end_var, interval=interval_var)\n",
    "        # Каждой машине ставим в соотвествие интервал таска\n",
    "        machine_to_intervals[machine].append(interval_var)\n"
   ]
  },
  {
   "cell_type": "markdown",
   "metadata": {},
   "source": [
    "*В нашей задаче есть следующие ограничения:*\n",
    "- Для каждой подзадачи время начала подзадачи + ее длительность меньше или равно времении начала следующей подзадачи \n",
    "- Интервалы работы подзадач каждой машины не пересекааются "
   ]
  },
  {
   "cell_type": "code",
   "execution_count": 42,
   "metadata": {},
   "outputs": [],
   "source": [
    "# Ограничение на непересечение интервалов\n",
    "for machine in all_machines:\n",
    "    model.AddNoOverlap(machine_to_intervals[machine])\n",
    "\n",
    "# Ограничение на конец n-ой и начало n+1-ой подзадачи в одной задаче\n",
    "for job_id, job in enumerate(jobs_data):\n",
    "    for task_id in range(len(job) - 1):\n",
    "        model.Add(all_tasks[job_id, task_id + 1].start >= all_tasks[job_id, task_id].end)\n"
   ]
  },
  {
   "cell_type": "markdown",
   "metadata": {},
   "source": [
    "Добавим целевую переменную, которую будем затем минимизировать. Это будет максимум концов подзадач."
   ]
  },
  {
   "cell_type": "code",
   "execution_count": 43,
   "metadata": {},
   "outputs": [],
   "source": [
    "# Переменная временных затрат\n",
    "obj_var = model.NewIntVar(0, horizon, 'makespan')\n",
    "\n",
    "# Добавляем условие obj_var == max(all_tasks.end)\n",
    "model.AddMaxEquality(obj_var, [\n",
    "    all_tasks[job_id, len(job) - 1].end\n",
    "    for job_id, job in enumerate(jobs_data)\n",
    "])\n",
    "# Минимизируем временные затраты\n",
    "model.Minimize(obj_var)\n",
    "\n",
    "# Запускаем перебор\n",
    "solver = cp_model.CpSolver()\n",
    "status = solver.Solve(model)"
   ]
  },
  {
   "cell_type": "markdown",
   "metadata": {},
   "source": [
    "### Вывод результатов"
   ]
  },
  {
   "cell_type": "code",
   "execution_count": 44,
   "metadata": {},
   "outputs": [
    {
     "name": "stdout",
     "output_type": "stream",
     "text": [
      "Время оптимального решения: 17\n",
      "\n",
      "\n",
      "Машина 0: подзадача_0_0       подзадача_3_2       подзадача_1_2       подзадача_2_1       \n",
      "          [0,2]               [3,4]               [7,10]              [12,14]             \n",
      "Машина 1: подзадача_1_0       подзадача_0_1       подзадача_2_0       подзадача_3_3       подзадача_1_3       \n",
      "          [0,5]               [5,8]               [8,12]              [12,13]             [13,16]             \n",
      "Машина 2: подзадача_3_1       подзадача_1_1       подзадача_0_3       подзадача_2_2       \n",
      "          [1,3]               [5,7]               [12,15]             [15,16]             \n",
      "Машина 3: подзадача_3_0       подзадача_0_2       подзадача_2_3       \n",
      "          [0,1]               [8,12]              [16,17]             \n",
      "\n"
     ]
    }
   ],
   "source": [
    "# Если нашли оптимальное решение\n",
    "if status == cp_model.OPTIMAL:\n",
    "    # Создаем для каждой машины лист тасков и оптимального решения\n",
    "    assigned_jobs = collections.defaultdict(list)\n",
    "    for job_id, job in enumerate(jobs_data):\n",
    "        for task_id, task in enumerate(job):\n",
    "            machine = task[0]\n",
    "            assigned_jobs[machine].append(\n",
    "                assigned_task_type(\n",
    "                    start=solver.Value(all_tasks[job_id, task_id].start),\n",
    "                    job=job_id,\n",
    "                    index=task_id,\n",
    "                    duration=task[1]))\n",
    "    # Вывод для задачи\n",
    "    output = ''\n",
    "    for machine in all_machines:\n",
    "        # Сортируем по времени\n",
    "        assigned_jobs[machine].sort()\n",
    "        sol_line_tasks = 'Машина ' + str(machine) + ': '\n",
    "        sol_line = '          '\n",
    "        \n",
    "        for assigned_task in assigned_jobs[machine]:\n",
    "            name = 'подзадача_%i_%i' % (assigned_task.job, assigned_task.index)\n",
    "            sol_line_tasks += '%-20s' % name\n",
    "            start = assigned_task.start\n",
    "            duration = assigned_task.duration\n",
    "            sol_tmp = '[%i,%i]' % (start, start + duration)\n",
    "            sol_line += '%-20s' % sol_tmp\n",
    "            \n",
    "        sol_line += '\\n'\n",
    "        sol_line_tasks += '\\n'\n",
    "        output += sol_line_tasks\n",
    "        output += sol_line\n",
    "\n",
    "    print('Время оптимального решения: %i' % solver.ObjectiveValue())\n",
    "    print('\\n')\n",
    "    print(output)"
   ]
  },
  {
   "cell_type": "code",
   "execution_count": null,
   "metadata": {},
   "outputs": [],
   "source": []
  }
 ],
 "metadata": {
  "kernelspec": {
   "display_name": "Python 3",
   "language": "python",
   "name": "python3"
  },
  "language_info": {
   "codemirror_mode": {
    "name": "ipython",
    "version": 3
   },
   "file_extension": ".py",
   "mimetype": "text/x-python",
   "name": "python",
   "nbconvert_exporter": "python",
   "pygments_lexer": "ipython3",
   "version": "3.6.8"
  }
 },
 "nbformat": 4,
 "nbformat_minor": 2
}
