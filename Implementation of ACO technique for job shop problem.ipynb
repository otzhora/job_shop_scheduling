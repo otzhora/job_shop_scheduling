{
 "cells": [
  {
   "cell_type": "code",
   "execution_count": 1,
   "metadata": {},
   "outputs": [],
   "source": [
    "import numpy as np \n",
    "import random\n",
    "import bisect\n",
    "from matplotlib import pyplot as plt\n",
    "from tqdm.notebook import tqdm\n",
    "import pandas as pd\n",
    "import math"
   ]
  },
  {
   "cell_type": "code",
   "execution_count": 2,
   "metadata": {},
   "outputs": [],
   "source": [
    "def pretty_matrix_print(matrix):\n",
    "    for i in range(len(matrix)):\n",
    "        for j in range(len(matrix[i])):\n",
    "            print(round(matrix[i][j], 5), end=\" \")\n",
    "        print(\"\")"
   ]
  },
  {
   "cell_type": "code",
   "execution_count": 3,
   "metadata": {},
   "outputs": [],
   "source": [
    "def readJSSP(path):\n",
    "    with open(path, 'r') as f:\n",
    "        lines =  f.readlines()\n",
    "        jobs = [[(int(machine), int(cost)) for machine, cost in zip(line.split()[0::2], line.split()[1::2])]\n",
    "                for line in lines[1:] if line.strip()]\n",
    "        \n",
    "        return jobs"
   ]
  },
  {
   "cell_type": "code",
   "execution_count": 4,
   "metadata": {},
   "outputs": [],
   "source": [
    "def calcMakespan(jobs, schedule):\n",
    "    n = len(jobs)\n",
    "    m = len(jobs[0])\n",
    "    \n",
    "    job_end = np.zeros(n, dtype=np.int) # end of prev. tasks for each job \n",
    "    machine_end = np.zeros(m, dtype=np.int) # end of prev. task for each machine\n",
    "    next_task = np.zeros(n, dtype=np.int) # next task for each job\n",
    "    \n",
    "    \n",
    "    for job in schedule:\n",
    "        machine, cost = jobs[job][next_task[job]]\n",
    "        \n",
    "        job_start = max(machine_end[machine], job_end[job])\n",
    "        \n",
    "        job_end[job] = job_start + cost\n",
    "        machine_end[machine] = job_start + cost\n",
    "        \n",
    "        next_task[job] += 1\n",
    "        \n",
    "    return max(machine_end)"
   ]
  },
  {
   "cell_type": "code",
   "execution_count": 5,
   "metadata": {},
   "outputs": [],
   "source": [
    "def convert_tour_to_schedule(m, tour):\n",
    "    return list(map(lambda x: x // m, tour))"
   ]
  },
  {
   "cell_type": "code",
   "execution_count": 6,
   "metadata": {},
   "outputs": [],
   "source": [
    "def convert_schedule_to_tour(n, m, schedule):\n",
    "    op_counter = [0 for _ in range(n)]\n",
    "    tour = []\n",
    "    #print(schedule)\n",
    "    for job in schedule:\n",
    "        #print(job*m + op_counter[job])\n",
    "        tour.append(job*m + op_counter[job])\n",
    "        op_counter[job] += 1\n",
    "        \n",
    "    return tour"
   ]
  },
  {
   "cell_type": "code",
   "execution_count": 7,
   "metadata": {},
   "outputs": [],
   "source": [
    "def randomSolution(jobs, num_iter):\n",
    "    n, m = len(jobs), len(jobs[0])\n",
    "    best_tour = []\n",
    "    best_makespan = 999999\n",
    "    \n",
    "    \n",
    "    for _ in range(num_iter):\n",
    "        solution = [j for j in range(n) for i in range(m)]\n",
    "        random.shuffle(solution)\n",
    "        makespan = calcMakespan(jobs, solution)\n",
    "        \n",
    "        # convert schedule to tour\n",
    "        tour = convert_schedule_to_tour(n, m, solution)\n",
    "        if(makespan < best_makespan):\n",
    "            best_tour = tour\n",
    "            best_makespan = makespan\n",
    "    return best_tour, best_makespan"
   ]
  },
  {
   "cell_type": "code",
   "execution_count": 8,
   "metadata": {},
   "outputs": [],
   "source": [
    "def get_probability(jobs, job_complitions, machine_complitions, pheromones, tour, next_set, beta):\n",
    "    n, m = len(jobs), len(jobs[0])\n",
    "    curr_operation = tour[-1]\n",
    "    \n",
    "    p = []\n",
    "    for i in next_set:\n",
    "        phero = pheromones[curr_operation][i]\n",
    "        \n",
    "        machine, cost = jobs[i // m][i % m]\n",
    "        job_compl = max(machine_complitions[machine], job_complitions[i // m]) + cost\n",
    "        p.append(phero * ((1 / cost) ** beta))\n",
    "    \n",
    "#    p = [pheromones[curr_operation][next_set[i]] * (1 / jobs[next_set[i] // m][next_set[i] % m][1]) ** beta \n",
    "#         for i in range(len(next_set))]\n",
    "    s = sum(p)\n",
    "    p = [x / s for x in p]\n",
    "    return p"
   ]
  },
  {
   "cell_type": "code",
   "execution_count": 9,
   "metadata": {},
   "outputs": [],
   "source": [
    "def get_probability_on_first_op(jobs, job_complitions, machine_complitions, pheromones, tour, next_set, beta):\n",
    "    n, m = len(jobs), len(jobs[0])\n",
    "    \n",
    "    p = [pheromones[next_set[i]] * ((1 / jobs[next_set[i] // m][next_set[i] % m][1]) ** beta)\n",
    "         for i in range(len(next_set))]\n",
    "    s = sum(p)\n",
    "    p = [x / s for x in p]\n",
    "    return p"
   ]
  },
  {
   "cell_type": "code",
   "execution_count": 10,
   "metadata": {},
   "outputs": [],
   "source": [
    "def biased_exploitation(jobs, job_complitions, machine_complitions, pheromones, tour, next_set, beta, get_probability=get_probability):\n",
    "    p = get_probability(jobs, job_complitions, machine_complitions, pheromones, tour, next_set, beta)\n",
    "    prob_cumm = 0\n",
    "    q = random.random()\n",
    "    s=0\n",
    "    #print(p)\n",
    "    for i, x in enumerate(p):        \n",
    "        prob_cumm += x\n",
    "        if(q < prob_cumm):\n",
    "            s = i\n",
    "            break\n",
    "    #print(s) \n",
    "    return next_set[min(s, len(next_set) - 1)]"
   ]
  },
  {
   "cell_type": "code",
   "execution_count": 11,
   "metadata": {},
   "outputs": [],
   "source": [
    "def exploitation(jobs, job_complitions, machine_complitions, pheromones, tour, next_set, beta, get_probability=get_probability):\n",
    "    p = get_probability(jobs, job_complitions, machine_complitions, pheromones, tour, next_set, beta)\n",
    "    #print(len(tour), next_set)\n",
    "    return next_set[p.index(max(p))]"
   ]
  },
  {
   "cell_type": "code",
   "execution_count": 12,
   "metadata": {},
   "outputs": [],
   "source": [
    "def choose_next_operation(job, job_complitions, machine_complitions, pheromones, tour, next_set, beta, q0, get_probability=get_probability):\n",
    "    q = random.random()\n",
    "    next_opertaion = -1\n",
    "    if(q < q0):\n",
    "        next_opertaion = exploitation(jobs, job_complitions, machine_complitions, pheromones, tour, next_set, beta, get_probability)\n",
    "    else:\n",
    "        next_opertaion = biased_exploitation(jobs, job_complitions, machine_complitions, pheromones, tour, next_set, beta, get_probability)\n",
    "    return next_opertaion"
   ]
  },
  {
   "cell_type": "code",
   "execution_count": 153,
   "metadata": {},
   "outputs": [],
   "source": [
    "def optimize(jobs, beta, q0, rho, alpha, num_iter, tau_0_solution=-1, tau_0_tour=[], Q=1):\n",
    "    n, m = len(jobs), len(jobs[0])\n",
    "    \n",
    "    # initialization\n",
    "    if(tau_0_solution != -1):\n",
    "        best_global_tour, best_global_time = tau_0_tour, tau_0_solution\n",
    "    else:\n",
    "        best_global_tour, best_global_time = randomSolution(jobs, 2)\n",
    "    tau_0 = 0.5 /  best_global_time # Not great, not terrible \n",
    "    print(best_global_time)\n",
    "    pheromones = [[tau_0 for i in range(n * m)] for j in range(n * m)]\n",
    "    pheromones_initial = [tau_0 for i in range(n * m)]\n",
    "    num_ant = n \n",
    "    #pretty_matrix_print(pheromones)\n",
    "    history = []\n",
    "    #best_global_time = 9999999\n",
    "    #best_global_tour = []\n",
    "    # this is phase in which ants build their tours \n",
    "    for it in tqdm(range(num_iter)):\n",
    "        first_iteration = it == 0\n",
    "        # visited opertaion on each job for each ant\n",
    "        visited = [[[0 for j in range(m)] for i in range(n)] for _ in range(num_ant)] \n",
    "        next_set = [[i * m for i in range(n)] for j in range(num_ant)] # first operation of each job\n",
    "        time = [0 for i in range(num_ant)]\n",
    "        tour = [[] for i in range(num_ant)]\n",
    "        current_op = [-1 for i in range(num_ant)]\n",
    "        job_complitions = [[0 for i in range(n)] for _ in range(num_ant)]\n",
    "        machine_complitions = [[0 for i in range(m)] for _ in range(num_ant)]\n",
    "        for i in range(n * m):\n",
    "            for k in range(num_ant):\n",
    "                if(first_iteration and current_op[k] == -1):\n",
    "                    visited[k][k][0] = 1\n",
    "                    # k*m - first operation of k-th job\n",
    "                    next_set[k].append(k * m + 1)\n",
    "                    next_set[k].remove(k * m)\n",
    "                    tour[k].append(k * m)\n",
    "                else:\n",
    "                    if(current_op[k] == -1):\n",
    "                        get_pr_function = get_probability_on_first_op\n",
    "                        phero_matrix = pheromones_initial\n",
    "                    else:\n",
    "                        get_pr_function = get_probability\n",
    "                        phero_matrix = pheromones\n",
    "\n",
    "                    if(len(next_set) == 1):\n",
    "                        next_operation = next_set[-1]\n",
    "                    else:\n",
    "                        next_operation = choose_next_operation(jobs, job_complitions[k], machine_complitions[k], phero_matrix, tour[k], next_set[k], beta, q0, get_pr_function)\n",
    "                    machine_complitions[k][jobs[next_operation // m][next_operation % m][0]] += jobs[next_operation // m][next_operation % m][1]\n",
    "                    job_complitions[k][next_operation // m] += jobs[next_operation // m][next_operation % m][1]\n",
    "                    tour[k].append(next_operation)\n",
    "                    visited[k][next_operation // m][next_operation % m] = 1\n",
    "                    next_set[k].remove(next_operation)\n",
    "                    if((next_operation + 1) % m != 0):\n",
    "                        next_set[k].append(next_operation+1)\n",
    "\n",
    "            # local updating\n",
    "\n",
    "            for k in range(num_ant):\n",
    "                if(not first_iteration):\n",
    "                    pheromones[current_op[k]][tour[k][-1]] = (1 - rho) * pheromones[current_op[k]][tour[k][-1]] \\\n",
    "                                                            + rho * tau_0\n",
    "                current_op[k] = tour[k][-1]\n",
    "\n",
    "        # update global results\n",
    "        for k in range(num_ant):\n",
    "            time[k] = calcMakespan(jobs, convert_tour_to_schedule(m, tour[k]))\n",
    "        #print(\"it: \", it)\n",
    "        \n",
    "        best_time = min(time)\n",
    "        best_tour = tour[time.index(best_time)]\n",
    "        #print(time)\n",
    "        #print(tour)\n",
    "        if(best_time < best_global_time):\n",
    "            best_global_time = best_time\n",
    "            best_global_tour = best_tour\n",
    "        #print(best_global_time)\n",
    "        #print(best_global_tour)\n",
    "        old_phero = [[pheromones[i][j] for j in range(len(pheromones[i]))] for i in range(len(pheromones))]\n",
    "        # global update pheromones\n",
    "        #for i in range(len(pheromones)):\n",
    "        #    for j in range(len(pheromones[i])):\n",
    "        #        pheromones[i][j] *= (1 - alpha)\n",
    "        \n",
    "        \n",
    "        pheromones_initial[best_global_tour[0]] = (1 - alpha) * pheromones_initial[best_global_tour[0]] + Q * alpha / best_global_time\n",
    "        for i in range(1, len(best_global_tour)):\n",
    "            pheromones[best_global_tour[i-1]][best_global_tour[i]] = (1 - alpha) *pheromones[best_global_tour[i-1]][best_global_tour[i]] + Q * alpha / best_global_time\n",
    "        \n",
    "        \n",
    "        #pretty_matrix_print([[pheromones[i][j] - old_phero[i][j] for j in range(len(pheromones[i]))] for i in range(len(pheromones))])\n",
    "        \n",
    "        \n",
    "        history.append({\n",
    "            \"it\": it,\n",
    "            \"best_time\": best_time,\n",
    "            \"best_tour\": best_tour,\n",
    "            \"best_global_time\": best_global_time\n",
    "        })\n",
    "        \n",
    "    return best_global_time, best_global_tour, history"
   ]
  },
  {
   "cell_type": "code",
   "execution_count": null,
   "metadata": {
    "scrolled": false
   },
   "outputs": [
    {
     "name": "stdout",
     "output_type": "stream",
     "text": [
      "1005\n"
     ]
    },
    {
     "data": {
      "application/vnd.jupyter.widget-view+json": {
       "model_id": "cc03056584c4401abc00017c6b56349c",
       "version_major": 2,
       "version_minor": 0
      },
      "text/plain": [
       "HBox(children=(IntProgress(value=0, max=1000), HTML(value='')))"
      ]
     },
     "metadata": {},
     "output_type": "display_data"
    }
   ],
   "source": [
    "jobs = readJSSP(\"./instanses/la01\")\n",
    "beta = 0\n",
    "alpha = 0.1\n",
    "rho = 0.01\n",
    "q0 = 0.9\n",
    "Q = 9\n",
    "num_iter = 1000\n",
    "use_known_solutions = False\n",
    "\n",
    "if(not use_known_solutions):\n",
    "    tau_0_solution = -1\n",
    "    tau_0_tour = []\n",
    "\n",
    "best_time, best_tour, history = optimize(jobs, beta, q0, rho, alpha, num_iter, tau_0_solution, tau_0_tour, Q)\n",
    "\n",
    "best_time"
   ]
  },
  {
   "cell_type": "code",
   "execution_count": null,
   "metadata": {},
   "outputs": [],
   "source": [
    "tau_0_tour = best_tour\n",
    "tau_0_solution = best_time"
   ]
  },
  {
   "cell_type": "code",
   "execution_count": null,
   "metadata": {},
   "outputs": [],
   "source": [
    "x = [it[\"it\"] for it in history]\n",
    "y = [it[\"best_time\"] for it in history]\n",
    "\n",
    "plt.figure(figsize=(16, 9))\n",
    "plt.plot(x, y)"
   ]
  },
  {
   "cell_type": "code",
   "execution_count": 144,
   "metadata": {},
   "outputs": [
    {
     "name": "stdout",
     "output_type": "stream",
     "text": [
      "abz6  ft6   la01  la06  la16  la36  small\r\n"
     ]
    }
   ],
   "source": [
    "!ls ./instanses"
   ]
  },
  {
   "cell_type": "code",
   "execution_count": null,
   "metadata": {},
   "outputs": [],
   "source": []
  }
 ],
 "metadata": {
  "kernelspec": {
   "display_name": "Python 3",
   "language": "python",
   "name": "python3"
  },
  "language_info": {
   "codemirror_mode": {
    "name": "ipython",
    "version": 3
   },
   "file_extension": ".py",
   "mimetype": "text/x-python",
   "name": "python",
   "nbconvert_exporter": "python",
   "pygments_lexer": "ipython3",
   "version": "3.6.7"
  }
 },
 "nbformat": 4,
 "nbformat_minor": 2
}
