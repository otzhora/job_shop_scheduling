{
 "cells": [
  {
   "cell_type": "code",
   "execution_count": 340,
   "metadata": {},
   "outputs": [],
   "source": [
    "import numpy as np \n",
    "import random\n",
    "import bisect\n",
    "from matplotlib import pyplot as plt\n",
    "from tqdm.notebook import tqdm\n",
    "import pandas as pd\n",
    "import math"
   ]
  },
  {
   "cell_type": "code",
   "execution_count": 232,
   "metadata": {},
   "outputs": [],
   "source": [
    "def pretty_matrix_print(matrix):\n",
    "    for i in range(len(matrix)):\n",
    "        for j in range(len(matrix[i])):\n",
    "            print(round(matrix[i][j], 5), end=\" \")\n",
    "        print(\"\")"
   ]
  },
  {
   "cell_type": "code",
   "execution_count": 2,
   "metadata": {},
   "outputs": [],
   "source": [
    "def readJSSP(path):\n",
    "    with open(path, 'r') as f:\n",
    "        lines =  f.readlines()\n",
    "        jobs = [[(int(machine), int(cost)) for machine, cost in zip(line.split()[0::2], line.split()[1::2])]\n",
    "                for line in lines[1:] if line.strip()]\n",
    "        \n",
    "        return jobs"
   ]
  },
  {
   "cell_type": "code",
   "execution_count": 12,
   "metadata": {},
   "outputs": [],
   "source": [
    "def calcMakespan(jobs, schedule):\n",
    "    n = len(jobs)\n",
    "    m = len(jobs[0])\n",
    "    \n",
    "    job_end = np.zeros(n, dtype=np.int) # end of prev. tasks for each job \n",
    "    machine_end = np.zeros(m, dtype=np.int) # end of prev. task for each machine\n",
    "    next_task = np.zeros(n, dtype=np.int) # next task for each job\n",
    "    \n",
    "    \n",
    "    for job in schedule:\n",
    "        machine, cost = jobs[job][next_task[job]]\n",
    "        \n",
    "        job_start = max(machine_end[machine], job_end[job])\n",
    "        \n",
    "        job_end[job] = job_start + cost\n",
    "        machine_end[machine] = job_start + cost\n",
    "        \n",
    "        next_task[job] += 1\n",
    "        \n",
    "    return max(machine_end)"
   ]
  },
  {
   "cell_type": "code",
   "execution_count": 13,
   "metadata": {},
   "outputs": [],
   "source": [
    "def convert_tour_to_schedule(m, tour):\n",
    "    return list(map(lambda x: x // m, tour))"
   ]
  },
  {
   "cell_type": "code",
   "execution_count": 26,
   "metadata": {},
   "outputs": [],
   "source": [
    "def convert_schedule_to_tour(n, m, schedule):\n",
    "    op_counter = [0 for _ in range(n)]\n",
    "    tour = []\n",
    "    #print(schedule)\n",
    "    for job in schedule:\n",
    "        #print(job*m + op_counter[job])\n",
    "        tour.append(job*m + op_counter[job])\n",
    "        op_counter[job] += 1\n",
    "        \n",
    "    return tour"
   ]
  },
  {
   "cell_type": "code",
   "execution_count": 29,
   "metadata": {},
   "outputs": [],
   "source": [
    "def randomSolution(jobs, num_iter):\n",
    "    n, m = len(jobs), len(jobs[0])\n",
    "    best_tour = []\n",
    "    best_makespan = 999999\n",
    "    \n",
    "    \n",
    "    for _ in range(num_iter):\n",
    "        solution = [j for j in range(n) for i in range(m)]\n",
    "        random.shuffle(solution)\n",
    "        makespan = calcMakespan(jobs, solution)\n",
    "        \n",
    "        # convert schedule to tour\n",
    "        tour = convert_schedule_to_tour(n, m, solution)\n",
    "        if(makespan < best_makespan):\n",
    "            best_tour = tour\n",
    "            best_makespan = makespan\n",
    "    return best_tour, best_makespan"
   ]
  },
  {
   "cell_type": "code",
   "execution_count": 277,
   "metadata": {},
   "outputs": [],
   "source": [
    "def get_probability(jobs, job_complitions, machine_complitions, pheromones, tour, next_set, beta):\n",
    "    n, m = len(jobs), len(jobs[0])\n",
    "    curr_operation = tour[-1]\n",
    "    \n",
    "    p = []\n",
    "    for i in next_set:\n",
    "        phero = pheromones[curr_operation][i]\n",
    "        \n",
    "        machine, cost = jobs[i // m][i % m]\n",
    "        job_compl = max(machine_complitions[machine], job_complitions[i // m]) + cost\n",
    "        p.append(phero * ((1 / cost) ** beta))\n",
    "    \n",
    "#    p = [pheromones[curr_operation][next_set[i]] * (1 / jobs[next_set[i] // m][next_set[i] % m][1]) ** beta \n",
    "#         for i in range(len(next_set))]\n",
    "    s = sum(p)\n",
    "    p = [x / s for x in p]\n",
    "    return p"
   ]
  },
  {
   "cell_type": "code",
   "execution_count": 278,
   "metadata": {},
   "outputs": [],
   "source": [
    "def get_probability_on_first_op(jobs, job_complitions, machine_complitions, pheromones, tour, next_set, beta):\n",
    "    n, m = len(jobs), len(jobs[0])\n",
    "    \n",
    "    p = [pheromones[next_set[i]] * (1 / jobs[next_set[i] // m][next_set[i] % m][1]) ** beta \n",
    "         for i in range(len(next_set))]\n",
    "    s = sum(p)\n",
    "    p = [x / s for x in p]\n",
    "    return p"
   ]
  },
  {
   "cell_type": "code",
   "execution_count": 279,
   "metadata": {},
   "outputs": [],
   "source": [
    "def biased_exploitation(jobs, job_complitions, machine_complitions, pheromones, tour, next_set, beta, get_probability=get_probability):\n",
    "    p = get_probability(jobs, job_complitions, machine_complitions, pheromones, tour, next_set, beta)\n",
    "    prob_cumm = 0\n",
    "    q = random.random()\n",
    "    s=0\n",
    "    #print(p)\n",
    "    for i, x in enumerate(p):        \n",
    "        prob_cumm += x\n",
    "        if(q < prob_cumm):\n",
    "            s = i\n",
    "            break\n",
    "    #print(s) \n",
    "    return next_set[min(s, len(next_set) - 1)]"
   ]
  },
  {
   "cell_type": "code",
   "execution_count": 280,
   "metadata": {},
   "outputs": [],
   "source": [
    "def exploitation(jobs, job_complitions, machine_complitions, pheromones, tour, next_set, beta, get_probability=get_probability):\n",
    "    p = get_probability(jobs, job_complitions, machine_complitions, pheromones, tour, next_set, beta)\n",
    "    #print(len(tour), next_set)\n",
    "    return next_set[p.index(max(p))]"
   ]
  },
  {
   "cell_type": "code",
   "execution_count": 281,
   "metadata": {},
   "outputs": [],
   "source": [
    "def choose_next_operation(job, job_complitions, machine_complitions, pheromones, tour, next_set, beta, q0, get_probability=get_probability):\n",
    "    q = random.random()\n",
    "    next_opertaion = -1\n",
    "    if(q < q0):\n",
    "        next_opertaion = exploitation(jobs, job_complitions, machine_complitions, pheromones, tour, next_set, beta, get_probability)\n",
    "    else:\n",
    "        next_opertaion = biased_exploitation(jobs, job_complitions, machine_complitions, pheromones, tour, next_set, beta, get_probability)\n",
    "    return next_opertaion"
   ]
  },
  {
   "cell_type": "code",
   "execution_count": 341,
   "metadata": {},
   "outputs": [],
   "source": [
    "def optimize(jobs, beta, q0, rho, alpha, num_iter):\n",
    "    n, m = len(jobs), len(jobs[0])\n",
    "    \n",
    "    # initialization\n",
    "    best_global_tour, best_global_time = randomSolution(jobs, 2)\n",
    "    tau_0 = 1 /  best_global_time # Not great, not terrible \n",
    "    print(best_global_time)\n",
    "    pheromones = [[tau_0 for i in range(n * m)] for j in range(n * m)]\n",
    "    pheromones_initial = [tau_0 for i in range(n * m)]\n",
    "    num_ant = n \n",
    "    #pretty_matrix_print(pheromones)\n",
    "    history = []\n",
    "    #best_global_time = 9999999\n",
    "    #best_global_tour = []\n",
    "    # this is phase in which ants build their tours \n",
    "    for it in tqdm(range(num_iter)):\n",
    "        first_iteration = it == 0\n",
    "        # visited opertaion on each job for each ant\n",
    "        visited = [[[0 for j in range(m)] for i in range(n)] for _ in range(num_ant)] \n",
    "        next_set = [[i * m for i in range(n)] for j in range(num_ant)] # first operation of each job\n",
    "        time = [0 for i in range(num_ant)]\n",
    "        tour = [[] for i in range(num_ant)]\n",
    "        current_op = [-1 for i in range(num_ant)]\n",
    "        job_complitions = [[0 for i in range(n)] for _ in range(num_ant)]\n",
    "        machine_complitions = [[0 for i in range(m)] for _ in range(num_ant)]\n",
    "        for i in range(n * m):\n",
    "            for k in range(num_ant):\n",
    "                if(first_iteration and current_op[k] == -1):\n",
    "                    visited[k][k][0] = 1\n",
    "                    # k*m - first operation of k-th job\n",
    "                    next_set[k].append(k * m + 1)\n",
    "                    next_set[k].remove(k * m)\n",
    "                    tour[k].append(k * m)\n",
    "                else:\n",
    "                    if(current_op[k] == -1):\n",
    "                        get_pr_function = get_probability_on_first_op\n",
    "                        phero_matrix = pheromones_initial\n",
    "                    else:\n",
    "                        get_pr_function = get_probability\n",
    "                        phero_matrix = pheromones\n",
    "\n",
    "                    if(len(next_set) == 1):\n",
    "                        next_operation = next_set[-1]\n",
    "                    else:\n",
    "                        next_operation = choose_next_operation(jobs, job_complitions[k], machine_complitions[k], phero_matrix, tour[k], next_set[k], beta, q0, get_pr_function)\n",
    "                    machine_complitions[k][jobs[next_operation // m][next_operation % m][0]] += jobs[next_operation // m][next_operation % m][1]\n",
    "                    job_complitions[k][next_operation // m] += jobs[next_operation // m][next_operation % m][1]\n",
    "                    tour[k].append(next_operation)\n",
    "                    visited[k][next_operation // m][next_operation % m] = 1\n",
    "                    next_set[k].remove(next_operation)\n",
    "                    if((next_operation + 1) % m != 0):\n",
    "                        next_set[k].append(next_operation+1)\n",
    "\n",
    "            # local updating\n",
    "\n",
    "            for k in range(num_ant):\n",
    "                if(not first_iteration):\n",
    "                    pheromones[current_op[k]][tour[k][-1]] = (1 - rho) * pheromones[current_op[k]][tour[k][-1]] \\\n",
    "                                                            + rho * tau_0\n",
    "                current_op[k] = tour[k][-1]\n",
    "\n",
    "        # update global results\n",
    "        for k in range(num_ant):\n",
    "            time[k] = calcMakespan(jobs, convert_tour_to_schedule(m, tour[k]))\n",
    "        #print(\"it: \", it)\n",
    "        \n",
    "        best_time = min(time)\n",
    "        best_tour = tour[time.index(best_time)]\n",
    "        \n",
    "        if(best_time < best_global_time):\n",
    "            best_global_time = best_time\n",
    "            best_global_tour = best_tour\n",
    "        #print(best_global_time)\n",
    "        #print(best_global_tour)\n",
    "        old_phero = [[pheromones[i][j] for j in range(len(pheromones[i]))] for i in range(len(pheromones))]\n",
    "        # global update pheromones\n",
    "        for i in range(len(pheromones)):\n",
    "            for j in range(len(pheromones[i])):\n",
    "                pheromones[i][j] *= (1 - alpha)\n",
    "        \n",
    "        \n",
    "        pheromones_initial[best_global_tour[0]] += 10 * alpha / best_global_time\n",
    "        for i in range(1, len(best_global_tour)):\n",
    "            pheromones[best_global_tour[i-1]][best_global_tour[i]] += 10 * alpha / best_global_time\n",
    "        \n",
    "        \n",
    "        #pretty_matrix_print([[pheromones[i][j] - old_phero[i][j] for j in range(len(pheromones[i]))] for i in range(len(pheromones))])\n",
    "        \n",
    "        \n",
    "        history.append({\n",
    "            \"it\": it,\n",
    "            \"best_time\": best_time,\n",
    "            \"best_tour\": best_tour\n",
    "        })\n",
    "        \n",
    "    return best_global_time, best_global_tour, history"
   ]
  },
  {
   "cell_type": "code",
   "execution_count": 347,
   "metadata": {
    "scrolled": false
   },
   "outputs": [
    {
     "name": "stdout",
     "output_type": "stream",
     "text": [
      "1425\n"
     ]
    },
    {
     "data": {
      "application/vnd.jupyter.widget-view+json": {
       "model_id": "8f37fba46982445fbfabe38a108f94a1",
       "version_major": 2,
       "version_minor": 0
      },
      "text/plain": [
       "HBox(children=(IntProgress(value=0, max=1000), HTML(value='')))"
      ]
     },
     "metadata": {},
     "output_type": "display_data"
    },
    {
     "name": "stdout",
     "output_type": "stream",
     "text": [
      "\n"
     ]
    },
    {
     "data": {
      "text/plain": [
       "1119"
      ]
     },
     "execution_count": 347,
     "metadata": {},
     "output_type": "execute_result"
    }
   ],
   "source": [
    "jobs = readJSSP(\"./instanses/abz6\")\n",
    "beta = 0\n",
    "alpha = 0.1\n",
    "rho = 0.01\n",
    "q0 = 0.8\n",
    "num_iter = 1000\n",
    "\n",
    "\n",
    "best_time, best_tour, history = optimize(jobs, beta, q0, rho, alpha, num_iter)\n",
    "\n",
    "best_time"
   ]
  },
  {
   "cell_type": "code",
   "execution_count": 348,
   "metadata": {},
   "outputs": [
    {
     "data": {
      "text/plain": [
       "[<matplotlib.lines.Line2D at 0x1261bd4e0>]"
      ]
     },
     "execution_count": 348,
     "metadata": {},
     "output_type": "execute_result"
    },
    {
     "data": {
      "image/png": "[encoded data removed]",
      "text/plain": [
       "<Figure size 1152x648 with 1 Axes>"
      ]
     },
     "metadata": {
      "needs_background": "light"
     },
     "output_type": "display_data"
    }
   ],
   "source": [
    "x = [it[\"it\"] for it in history]\n",
    "y = [it[\"best_time\"] for it in history]\n",
    "\n",
    "plt.figure(figsize=(16, 9))\n",
    "plt.plot(x, y)"
   ]
  },
  {
   "cell_type": "code",
   "execution_count": 349,
   "metadata": {},
   "outputs": [
    {
     "data": {
      "text/plain": [
       "[(0, 1196),\n",
       " (1, 1177),\n",
       " (2, 1496),\n",
       " (3, 1694),\n",
       " (4, 1833),\n",
       " (5, 1432),\n",
       " (6, 1987),\n",
       " (7, 1257),\n",
       " (8, 1456),\n",
       " (9, 2360),\n",
       " (10, 1984),\n",
       " (11, 1767),\n",
       " (12, 1218),\n",
       " (13, 1990),\n",
       " (14, 1177),\n",
       " (15, 1177),\n",
       " (16, 1177),\n",
       " (17, 1177),\n",
       " (18, 1177),\n",
       " (19, 1275),\n",
       " (20, 1196),\n",
       " (21, 1177),\n",
       " (22, 1177),\n",
       " (23, 1177),\n",
       " (24, 1177),\n",
       " (25, 1149),\n",
       " (26, 1177),\n",
       " (27, 1177),\n",
       " (28, 1177),\n",
       " (29, 1177),\n",
       " (30, 1177),\n",
       " (31, 1149),\n",
       " (32, 1149),\n",
       " (33, 1149),\n",
       " (34, 1149),\n",
       " (35, 1149),\n",
       " (36, 1149),\n",
       " (37, 1149),\n",
       " (38, 1149),\n",
       " (39, 1149),\n",
       " (40, 1149),\n",
       " (41, 1149),\n",
       " (42, 1149),\n",
       " (43, 1149),\n",
       " (44, 1119),\n",
       " (45, 1149),\n",
       " (46, 1119),\n",
       " (47, 1149),\n",
       " (48, 1119),\n",
       " (49, 1119),\n",
       " (50, 1119),\n",
       " (51, 1119),\n",
       " (52, 1119),\n",
       " (53, 1119),\n",
       " (54, 1119),\n",
       " (55, 1119),\n",
       " (56, 1119),\n",
       " (57, 1119),\n",
       " (58, 1119),\n",
       " (59, 1119),\n",
       " (60, 1119),\n",
       " (61, 1119),\n",
       " (62, 1119),\n",
       " (63, 1119),\n",
       " (64, 1119),\n",
       " (65, 1119),\n",
       " (66, 1119),\n",
       " (67, 1119),\n",
       " (68, 1119),\n",
       " (69, 1119),\n",
       " (70, 1119),\n",
       " (71, 1119),\n",
       " (72, 1119),\n",
       " (73, 1119),\n",
       " (74, 1119),\n",
       " (75, 1119),\n",
       " (76, 1119),\n",
       " (77, 1119),\n",
       " (78, 1119),\n",
       " (79, 1119),\n",
       " (80, 1119),\n",
       " (81, 1119),\n",
       " (82, 1119),\n",
       " (83, 1119),\n",
       " (84, 1119),\n",
       " (85, 1119),\n",
       " (86, 1119),\n",
       " (87, 1119),\n",
       " (88, 1119),\n",
       " (89, 1119),\n",
       " (90, 1119),\n",
       " (91, 1119),\n",
       " (92, 1119),\n",
       " (93, 1119),\n",
       " (94, 1119),\n",
       " (95, 1119),\n",
       " (96, 1119),\n",
       " (97, 1119),\n",
       " (98, 1119),\n",
       " (99, 1119)]"
      ]
     },
     "execution_count": 349,
     "metadata": {},
     "output_type": "execute_result"
    }
   ],
   "source": [
    "[(x[i], y[i]) for i in range(len(history[:100]))]"
   ]
  },
  {
   "cell_type": "code",
   "execution_count": null,
   "metadata": {},
   "outputs": [],
   "source": []
  }
 ],
 "metadata": {
  "kernelspec": {
   "display_name": "Python 3",
   "language": "python",
   "name": "python3"
  },
  "language_info": {
   "codemirror_mode": {
    "name": "ipython",
    "version": 3
   },
   "file_extension": ".py",
   "mimetype": "text/x-python",
   "name": "python",
   "nbconvert_exporter": "python",
   "pygments_lexer": "ipython3",
   "version": "3.6.7"
  }
 },
 "nbformat": 4,
 "nbformat_minor": 2
}
